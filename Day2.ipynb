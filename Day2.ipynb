{
 "cells": [
  {
   "cell_type": "code",
   "execution_count": 1,
   "metadata": {},
   "outputs": [
    {
     "name": "stdout",
     "output_type": "stream",
     "text": [
      "Good afternoon, sir.\n"
     ]
    }
   ],
   "source": [
    "#simple problem\n",
    "time = float(input(\"Enter the time (in 24-hour format, e.g., 13.45 for 1:45 PM): \"))\n",
    "\n",
    "if time <= 12.00:\n",
    "    print(\"Good morning, sir.\")\n",
    "elif 12.01 <= time <= 16.00:\n",
    "    print(\"Good afternoon, sir.\")\n",
    "elif 16.01 <= time <= 20.00:\n",
    "    print(\"Good evening, sir.\")\n",
    "elif 20.01 <= time <= 23.59 or 0.00 <= time <= 3.00:\n",
    "    print(\"Good night, sir.\")\n",
    "else:\n",
    "    print(\"Invalid time entered.\")"
   ]
  },
  {
   "cell_type": "code",
   "execution_count": 2,
   "metadata": {},
   "outputs": [
    {
     "name": "stdout",
     "output_type": "stream",
     "text": [
      "Good afternoon, sir.\n"
     ]
    }
   ],
   "source": [
    "#using time module\n",
    "import time\n",
    "\n",
    "current_time = time.localtime()\n",
    "\n",
    "\n",
    "hour = current_time.tm_hour\n",
    "\n",
    "if hour <= 12:\n",
    "    print(\"Good morning, sir.\")\n",
    "elif 12 < hour <= 16:\n",
    "    print(\"Good afternoon, sir.\")\n",
    "elif 16 < hour <= 20:\n",
    "    print(\"Good evening, sir.\")\n",
    "elif 20 < hour or hour <= 3:\n",
    "    print(\"Good night, sir.\")\n",
    "else:\n",
    "    print(\"Invalid time entered.\")"
   ]
  },
  {
   "cell_type": "code",
   "execution_count": 3,
   "metadata": {},
   "outputs": [
    {
     "name": "stdout",
     "output_type": "stream",
     "text": [
      "options are:-\n",
      "      1.addition\n",
      "      2.subtraction\n",
      "      3.multiplication\n",
      "      4.division\n",
      "Multiplication is:- 510\n"
     ]
    }
   ],
   "source": [
    "#calculator using match case\n",
    "num1 = int(input(\"Enter the first number:-\"))\n",
    "num2 = int(input(\"Enter the second number:-\"))\n",
    "print('''options are:-\n",
    "      1.addition\n",
    "      2.subtraction\n",
    "      3.multiplication\n",
    "      4.division''')\n",
    "option = int(input(\"Enter your choice:-\"))\n",
    "match option:\n",
    "    case 1:\n",
    "        print(\"Sum is:-\",num1+num2)\n",
    "    case 2:\n",
    "        print(\"substraction is:-\",num1-num2)\n",
    "    case 3:\n",
    "        print(\"Multiplication is:-\",num1*num2)\n",
    "    case 4:\n",
    "        print(\"Division is:-\",num1/num2)  \n",
    "    case _:\n",
    "        print(\"Invalid input\")     "
   ]
  },
  {
   "cell_type": "code",
   "execution_count": 4,
   "metadata": {},
   "outputs": [
    {
     "name": "stdout",
     "output_type": "stream",
     "text": [
      "P,r,a,t,y,u,s,h,a,0\n",
      "2\n",
      "4\n",
      "0\n",
      "2\n",
      "4\n",
      "6\n",
      "8\n",
      "10\n",
      "12\n",
      "14\n",
      "16\n",
      "18\n"
     ]
    }
   ],
   "source": [
    "#loops\n",
    "#for loop\n",
    "name = \"Pratyusha\"\n",
    "for i in name:\n",
    " print(i,end=\",\")\n",
    "\n",
    "#even number using if \n",
    "for j in range(0,6):\n",
    " if (j%2==0):\n",
    "  print(j) \n",
    "\n",
    "#even number using 3 parameter\n",
    "for k in range(0,20,2):\n",
    " print(k)  "
   ]
  },
  {
   "cell_type": "code",
   "execution_count": 5,
   "metadata": {},
   "outputs": [
    {
     "name": "stdout",
     "output_type": "stream",
     "text": [
      "p,r,a,t,y,u,s,h,a,0\n",
      "2\n",
      "4\n",
      "6\n",
      "8\n",
      "10\n",
      "12\n",
      "14\n",
      "16\n",
      "18\n",
      "20\n"
     ]
    }
   ],
   "source": [
    "name = \"pratyusha\"\n",
    "j = len(name)\n",
    "i = 0  \n",
    "while i < j:\n",
    "    print(name[i],end=\",\")\n",
    "    i += 1 \n",
    "\n",
    "i=0\n",
    "while i<21:\n",
    "    if(i%2==0):\n",
    "        print(i)\n",
    "    i=i+1    "
   ]
  },
  {
   "cell_type": "code",
   "execution_count": 6,
   "metadata": {},
   "outputs": [
    {
     "name": "stdout",
     "output_type": "stream",
     "text": [
      "5X 1 = 5\n",
      "5X 2 = 10\n",
      "5X 3 = 15\n",
      "5X 4 = 20\n",
      "5X 5 = 25\n",
      "5X 6 = 30\n",
      "5X 7 = 35\n",
      "5X 8 = 40\n",
      "5X 9 = 45\n",
      "5X 10 = 50\n"
     ]
    }
   ],
   "source": [
    "#uses of break statement\n",
    "#Terminate after 10\n",
    "#basically break is exit of loop after a certain iteration\n",
    "for i in range(12):\n",
    "    print(\"5X\",i+1,\"=\",5*(i+1))\n",
    "    if(i == 9):\n",
    "        break"
   ]
  },
  {
   "cell_type": "code",
   "execution_count": 7,
   "metadata": {},
   "outputs": [
    {
     "name": "stdout",
     "output_type": "stream",
     "text": [
      "5X 1 = 5\n",
      "5X 2 = 10\n",
      "5X 3 = 15\n",
      "5X 4 = 20\n",
      "5X 5 = 25\n",
      "5X 6 = 30\n",
      "5X 7 = 35\n",
      "5X 8 = 40\n",
      "5X 9 = 45\n",
      "Skip this iteration\n",
      "5X 11 = 55\n",
      "5X 12 = 60\n"
     ]
    }
   ],
   "source": [
    "#uses of continue statement\n",
    "#Terminate at 10\n",
    "#basically continue is exit of iteration at a particular point\n",
    "for i in range(12):\n",
    "      if((i+1)==10):\n",
    "        print(\"Skip this iteration\")\n",
    "        continue\n",
    "      print(\"5X\",i+1,\"=\",5*(i+1))"
   ]
  },
  {
   "cell_type": "code",
   "execution_count": 8,
   "metadata": {},
   "outputs": [
    {
     "name": "stdout",
     "output_type": "stream",
     "text": [
      "2\n",
      "4\n",
      "6\n",
      "8\n",
      "10\n",
      "12\n",
      "14\n",
      "16\n",
      "18\n",
      "20\n"
     ]
    }
   ],
   "source": [
    "#using the concept of do-while\n",
    "i = 1  # Starting from 1, since the range is 1-20\n",
    "while True:\n",
    "    if i % 2 == 0:\n",
    "        print(i)\n",
    "    i += 1\n",
    "    if i > 20:\n",
    "        break"
   ]
  },
  {
   "cell_type": "code",
   "execution_count": 11,
   "metadata": {},
   "outputs": [
    {
     "name": "stdout",
     "output_type": "stream",
     "text": [
      "Geometric Mean is:- 12.097087378640778\n",
      "Geometric Mean is:- 26.134920634920636\n",
      "Summation is:- 103\n",
      "Summation is:- 126\n",
      "cube is:- 2744\n",
      "cube is:- 704969\n"
     ]
    }
   ],
   "source": [
    "#function\n",
    "\n",
    "def mean(a,b):\n",
    "    print(\"Geometric Mean is:-\",(a*b)/(a+b))\n",
    "\n",
    "def sum(a,b):\n",
    "     print(\"Summation is:-\",a+b)   \n",
    "\n",
    "def cube(a):\n",
    "     print(\"cube is:-\",a*a*a)\n",
    "\n",
    "def numbercall(n):\n",
    "     return int(input(\"Enter the number:-\"))  \n",
    "          \n",
    "num1 = numbercall(\"num1\")\n",
    "num2 = numbercall(\"num2\")\n",
    "num3 = numbercall(\"num3\")\n",
    "\n",
    "mean(num1,num2)  \n",
    "mean(num2,num3) \n",
    "\n",
    "\n",
    "sum(num1,num2)\n",
    "sum(num3,num2)\n",
    "\n",
    "cube(num1)\n",
    "cube(num2)"
   ]
  },
  {
   "cell_type": "code",
   "execution_count": 12,
   "metadata": {},
   "outputs": [
    {
     "name": "stdout",
     "output_type": "stream",
     "text": [
      "Average is:- 5.0\n",
      "Average is:- 1.5\n",
      "Average is:- 6.0\n",
      "Average is:- 4.0\n"
     ]
    }
   ],
   "source": [
    "#types of function arguement\n",
    "#default arguement\n",
    "def average(a=9,b=1):\n",
    "    print(\"Average is:-\",(a+b)/2)\n",
    "\n",
    "average()    \n",
    "average(2)\n",
    "average(4,8)\n",
    "\n",
    "#keyword arguement\n",
    "average(b=7,a=1)"
   ]
  },
  {
   "cell_type": "code",
   "execution_count": 13,
   "metadata": {},
   "outputs": [
    {
     "name": "stdout",
     "output_type": "stream",
     "text": [
      "<class 'tuple'>\n",
      "Average is:- 3.5\n"
     ]
    }
   ],
   "source": [
    "#arbitary arguements\n",
    "def average(*numbers):\n",
    "    print(type(numbers))\n",
    "    sum = 0\n",
    "    for i in numbers:\n",
    "        sum += i\n",
    "    print(\"Average is:-\",sum/len(numbers))   \n",
    "\n",
    "average(5,2) "
   ]
  }
 ],
 "metadata": {
  "kernelspec": {
   "display_name": "Python 3",
   "language": "python",
   "name": "python3"
  },
  "language_info": {
   "codemirror_mode": {
    "name": "ipython",
    "version": 3
   },
   "file_extension": ".py",
   "mimetype": "text/x-python",
   "name": "python",
   "nbconvert_exporter": "python",
   "pygments_lexer": "ipython3",
   "version": "3.11.4"
  }
 },
 "nbformat": 4,
 "nbformat_minor": 2
}
