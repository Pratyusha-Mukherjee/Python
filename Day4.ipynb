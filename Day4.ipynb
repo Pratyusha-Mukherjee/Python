{
 "cells": [
  {
   "cell_type": "code",
   "execution_count": 2,
   "metadata": {},
   "outputs": [
    {
     "name": "stdout",
     "output_type": "stream",
     "text": [
      "0\n",
      "1\n",
      "2\n",
      "3\n",
      "4\n",
      "5\n",
      "Sorry!!no i\n"
     ]
    }
   ],
   "source": [
    "#for  loops with else\n",
    "for i in range(6):\n",
    "    print(i)\n",
    "    # if i==4:\n",
    "    #     break\n",
    "else:\n",
    "    print(\"Sorry!!no i\")    "
   ]
  },
  {
   "cell_type": "code",
   "execution_count": 6,
   "metadata": {},
   "outputs": [
    {
     "name": "stdout",
     "output_type": "stream",
     "text": [
      "3\n"
     ]
    }
   ],
   "source": [
    "#exception handlung\n",
    "try:\n",
    "    num = int(input(\"Enter an integer:-\"))\n",
    "    a = [6,3]\n",
    "    print(a[num])\n",
    "except ValueError:\n",
    "    print(\"number is not integer\")\n",
    "\n",
    "\n",
    "except IndexError:\n",
    "    print(\"Index error\")"
   ]
  },
  {
   "cell_type": "code",
   "execution_count": 9,
   "metadata": {},
   "outputs": [
    {
     "name": "stdout",
     "output_type": "stream",
     "text": [
      "Index error\n",
      "Iam always executed\n"
     ]
    }
   ],
   "source": [
    "#exception handlung\n",
    "try:\n",
    "    num = int(input(\"Enter an index:-\"))\n",
    "    a = [6,3,4,5]\n",
    "    print(a[num])\n",
    "\n",
    "\n",
    "except IndexError:\n",
    "    print(\"Index error\")\n",
    "\n",
    "finally:\n",
    "    print(\"Iam always executed\")    "
   ]
  },
  {
   "cell_type": "code",
   "execution_count": 2,
   "metadata": {},
   "outputs": [
    {
     "name": "stdout",
     "output_type": "stream",
     "text": [
      "Error: Invalid input: Value should be between 2 and 9.\n"
     ]
    }
   ],
   "source": [
    "\n",
    "#raise custom error\n",
    "try:\n",
    "    a = int(input(\"Enter any value between 2 to 9: \"))  # Corrected typo\n",
    "    if a < 2 or a > 9:\n",
    "        raise ValueError(\"Invalid input: Value should be between 2 and 9.\")  # Custom error\n",
    "except ValueError as e:\n",
    "    print(f\"Error: {e}\")\n"
   ]
  },
  {
   "cell_type": "code",
   "execution_count": 7,
   "metadata": {},
   "outputs": [
    {
     "name": "stdout",
     "output_type": "stream",
     "text": [
      "A\n",
      "0\n"
     ]
    }
   ],
   "source": [
    "a = 4900\n",
    "b = 3\n",
    "print(\"A\") if a > b else print(\"=\") if a==b else print(\"B\")\n",
    "\n",
    "c = 9 if c<b else 0\n",
    "print(c)"
   ]
  },
  {
   "cell_type": "code",
   "execution_count": 12,
   "metadata": {},
   "outputs": [
    {
     "name": "stdout",
     "output_type": "stream",
     "text": [
      "1:apple\n",
      "2:guava\n",
      "3:banana\n",
      "4:pineapple\n"
     ]
    }
   ],
   "source": [
    "#enumerate function\n",
    "fruits = [\"apple\",\"guava\",\"banana\",\"pineapple\"]\n",
    "for index,fruit in enumerate(fruits, start=1):\n",
    "    print(f\"{index}:{fruit}\")"
   ]
  }
 ],
 "metadata": {
  "kernelspec": {
   "display_name": "Python 3",
   "language": "python",
   "name": "python3"
  },
  "language_info": {
   "codemirror_mode": {
    "name": "ipython",
    "version": 3
   },
   "file_extension": ".py",
   "mimetype": "text/x-python",
   "name": "python",
   "nbconvert_exporter": "python",
   "pygments_lexer": "ipython3",
   "version": "3.11.4"
  }
 },
 "nbformat": 4,
 "nbformat_minor": 2
}
