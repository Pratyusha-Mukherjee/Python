{
 "cells": [
  {
   "cell_type": "code",
   "execution_count": 2,
   "metadata": {},
   "outputs": [
    {
     "name": "stdout",
     "output_type": "stream",
     "text": [
      "Hello world!!\n",
      "5\n"
     ]
    }
   ],
   "source": [
    "print(\"Hello world!!\")\n",
    "print(5)"
   ]
  },
  {
   "cell_type": "code",
   "execution_count": 3,
   "metadata": {},
   "outputs": [
    {
     "name": "stdout",
     "output_type": "stream",
     "text": [
      "Twinkle, twinkle, little star,\n",
      "How I wonder what you are!\n",
      "Up above the world so high,\n",
      "Like a diamond in the sky.\n"
     ]
    }
   ],
   "source": [
    "#Write a poem using multiline print statement\n",
    "print('''Twinkle, twinkle, little star,\n",
    "How I wonder what you are!\n",
    "Up above the world so high,\n",
    "Like a diamond in the sky.''')"
   ]
  },
  {
   "cell_type": "code",
   "execution_count": 4,
   "metadata": {},
   "outputs": [
    {
     "name": "stdout",
     "output_type": "stream",
     "text": [
      "Twinkle, twinkle, little star,\n",
      "How I wonder what you are!\n",
      "Up above the world so high,\n",
      "Like a diamond in the sky.\n"
     ]
    }
   ],
   "source": [
    "#Write a poem using escape sequence charater\n",
    "print(\"Twinkle, twinkle, little star,\\nHow I wonder what you are!\\nUp above the world so high,\\nLike a diamond in the sky.\")"
   ]
  },
  {
   "cell_type": "code",
   "execution_count": 9,
   "metadata": {},
   "outputs": [
    {
     "name": "stdout",
     "output_type": "stream",
     "text": [
      "My name is 'pratyusha'\n",
      "my name is \"Pratyusha\"\n",
      "Apple-5-6price\n",
      " Market price of apple\n"
     ]
    }
   ],
   "source": [
    "#use of single and double quote in python and escape sequence\n",
    "print(\"My name is 'pratyusha'\")\n",
    "print(\"my name is \\\"Pratyusha\\\"\")\n",
    "print(\"Apple\",5,6,sep=\"-\",end=\"price\\n \")\n",
    "print(\"Market price of apple\")"
   ]
  },
  {
   "cell_type": "code",
   "execution_count": 15,
   "metadata": {},
   "outputs": [
    {
     "name": "stdout",
     "output_type": "stream",
     "text": [
      "10\n",
      "<class 'int'>\n",
      "4.5\n",
      "<class 'float'>\n",
      "B\n",
      "<class 'str'>\n",
      "True\n",
      "<class 'bool'>\n",
      "None\n",
      "<class 'NoneType'>\n",
      "(2+6j)\n",
      "<class 'complex'>\n",
      "<class 'list'>\n",
      "<class 'tuple'>\n",
      "<class 'dict'>\n"
     ]
    }
   ],
   "source": [
    "#Python variable and datatype\n",
    "a = 10\n",
    "b = 4.5\n",
    "c = \"B\"\n",
    "d = True\n",
    "e = None\n",
    "f = complex(2,6)\n",
    "list1 = [\"apple\",\"guava\",\"lichi\"]\n",
    "tuple1 = (\"A\",\"B\",\"c\")\n",
    "dict1 = {\n",
    "    \"Name\" : \"pratyusha\",\n",
    "    \"Age\": 20,\n",
    "    \"Home\":\"Howrah\"\n",
    "    }\n",
    "print(a)\n",
    "print(type(a))\n",
    "print(b)\n",
    "print(type(b))\n",
    "print(c)\n",
    "print(type(c))\n",
    "print(d)\n",
    "print(type(d))\n",
    "print(e)\n",
    "print(type(e))\n",
    "print(f)\n",
    "print(type(f))\n",
    "print(type(list1))\n",
    "print(type(tuple1))\n",
    "print(type(dict1))\n"
   ]
  },
  {
   "cell_type": "code",
   "execution_count": 19,
   "metadata": {},
   "outputs": [
    {
     "name": "stdout",
     "output_type": "stream",
     "text": [
      "Sum is:- 43\n",
      "Difffernce is:- 5\n",
      "Multiplication is:- 456\n",
      "Division is:- 1.263157894736842\n",
      "Floor divisiion is:- 1\n",
      "Exponential is:- 13824\n",
      "Modulus is:- 5\n"
     ]
    }
   ],
   "source": [
    "#Arithmatic operator\n",
    "a = 24\n",
    "b = 19\n",
    "print(\"Sum is:-\",a+b)\n",
    "print(\"Difffernce is:-\",a-b)\n",
    "print(\"Multiplication is:-\",a*b)\n",
    "print(\"Division is:-\",a/b)\n",
    "print(\"Floor divisiion is:-\",a//b)\n",
    "print(\"Exponential is:-\",a**3)\n",
    "print(\"Modulus is:-\",a%b)\n"
   ]
  },
  {
   "cell_type": "code",
   "execution_count": 20,
   "metadata": {},
   "outputs": [
    {
     "name": "stdout",
     "output_type": "stream",
     "text": [
      "6030\n"
     ]
    }
   ],
   "source": [
    "#calculator\n",
    "num1 = (int(input(\"Enter the first number:-\")))\n",
    "num2 = (int(input(\"Enter the first number:-\")))\n",
    "option = (int(input(\"Enter the option:-\")))\n",
    "if option == 1:\n",
    "    print(num1+num2)\n",
    "elif option == 2:\n",
    "    print(num1-num2)    \n",
    "elif option == 3:\n",
    "        print(num1*num2)\n",
    "elif option == 4 :\n",
    "        print(num1/num2)\n",
    "else:\n",
    "      print(\"Invalid option\")\n",
    "             "
   ]
  },
  {
   "cell_type": "code",
   "execution_count": 21,
   "metadata": {},
   "outputs": [
    {
     "name": "stdout",
     "output_type": "stream",
     "text": [
      "My name is : megha\n",
      "1213\n",
      "25\n"
     ]
    }
   ],
   "source": [
    "# Typecasting and User input\n",
    "name = input(\"Enter your name:-\")\n",
    "print(\"My name is :\",name)\n",
    "\n",
    "# here the input is given as a string\n",
    "x1 = input(\"Enter the first number:\")\n",
    "y1 = input(\"Enter the second Number:-\")\n",
    "print(x1+y1)\n",
    "\n",
    "#here the string input is changed into integer by typecasting\n",
    "x2 =int(input(\"Enter the first number:\"))\n",
    "y2 =int(input(\"Enter the second Number:-\"))\n",
    "print(x2+y2)"
   ]
  },
  {
   "cell_type": "code",
   "execution_count": 43,
   "metadata": {},
   "outputs": [
    {
     "name": "stdout",
     "output_type": "stream",
     "text": [
      "P\n",
      "P\n",
      "r\n",
      "a\n",
      "t\n",
      "y\n",
      "u\n",
      "s\n",
      "h\n",
      "a\n",
      "9\n",
      "Praty\n",
      "ahsuytarP\n"
     ]
    }
   ],
   "source": [
    "#strings\n",
    "#indexing\n",
    "name = \"Pratyusha\"\n",
    "print(name[0])\n",
    "\n",
    "#looping\n",
    "for char in name:\n",
    "    print(char)\n",
    "\n",
    "#length\n",
    "print(len(name))\n",
    "\n",
    "#slicing\n",
    "print(name[0:5])    \n",
    "\n",
    "#reverse\n",
    "print(name[::-1])\n",
    "\n",
    "\n"
   ]
  },
  {
   "cell_type": "code",
   "execution_count": 56,
   "metadata": {},
   "outputs": [
    {
     "name": "stdout",
     "output_type": "stream",
     "text": [
      "PRATYUSHA MUKHERJEE !\n",
      "pratyusha mukherjee !\n",
      "pratyusha mukherjee \n",
      "Megha mukherjee !\n",
      "['pratyusha', 'mukherjee', '!']\n",
      "Pratyusha mukherjee !\n"
     ]
    }
   ],
   "source": [
    "#string methods\n",
    "name = \"pratyusha mukherjee !\"\n",
    "print(name.upper())  #upper\n",
    "print(name.lower())  #lower\n",
    "print(name.rstrip(\"!\")) #strip= to remove anything from string\n",
    "print(name.replace(\"pratyusha\",\"Megha\")) #replace with megha\n",
    "print(name.split())#making the string to list\n",
    "print(name.capitalize())#capitalize first word\n",
    "print(name.center())\n",
    "\n",
    "\n"
   ]
  }
 ],
 "metadata": {
  "kernelspec": {
   "display_name": "Python 3",
   "language": "python",
   "name": "python3"
  },
  "language_info": {
   "codemirror_mode": {
    "name": "ipython",
    "version": 3
   },
   "file_extension": ".py",
   "mimetype": "text/x-python",
   "name": "python",
   "nbconvert_exporter": "python",
   "pygments_lexer": "ipython3",
   "version": "3.11.4"
  }
 },
 "nbformat": 4,
 "nbformat_minor": 2
}
