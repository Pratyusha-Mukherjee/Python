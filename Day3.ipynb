{
 "cells": [
  {
   "cell_type": "code",
   "execution_count": 2,
   "metadata": {},
   "outputs": [
    {
     "name": "stdout",
     "output_type": "stream",
     "text": [
      "I am Pratyusha from India\n",
      "The price of the apple is67.24\n"
     ]
    }
   ],
   "source": [
    "#fstring\n",
    "name = \"Pratyusha\"\n",
    "country = \"India\"\n",
    "print(f\"I am {name} from {country}\")\n",
    "\n",
    "price = 67.239043\n",
    "print(f\"The price of the apple is{price:.2f}\")"
   ]
  },
  {
   "cell_type": "code",
   "execution_count": 3,
   "metadata": {},
   "outputs": [
    {
     "name": "stdout",
     "output_type": "stream",
     "text": [
      "Number is: 4\n",
      "Factorial is:- 24\n"
     ]
    }
   ],
   "source": [
    "#recursion\n",
    "#factorial\n",
    "def factorial(num):\n",
    "    if (num == 0 or num == 1):\n",
    "                return 1\n",
    "    else:\n",
    "            return num*factorial(num-1)\n",
    "    \n",
    "num = int(input(\"Enter the number you want:-\"))\n",
    "print (\"Number is:\",num)\n",
    "print(\"Factorial is:-\",factorial(num))    "
   ]
  },
  {
   "cell_type": "code",
   "execution_count": 5,
   "metadata": {},
   "outputs": [
    {
     "name": "stdout",
     "output_type": "stream",
     "text": [
      "34\n"
     ]
    }
   ],
   "source": [
    "def fibonacci(n):\n",
    "    if n<0:\n",
    "        print(\"it is negative integer\")\n",
    "    elif n==0:\n",
    "        return 0\n",
    "    elif n==1 or n==2:\n",
    "        return 1\n",
    "    else:\n",
    "        return fibonacci(n-1)+fibonacci(n-2)\n",
    "\n",
    "\n",
    "print(fibonacci(int(input(\"Enter the number:-\"))))"
   ]
  },
  {
   "cell_type": "code",
   "execution_count": 8,
   "metadata": {},
   "outputs": [
    {
     "name": "stdout",
     "output_type": "stream",
     "text": [
      "{1, 2, 3, 4, 5, 6, 8, 9}\n",
      "{9, 3, 5}\n",
      "{1, 2, 4, 6, 8}\n",
      "{8, 1}\n",
      "False\n",
      "False\n",
      "False\n"
     ]
    }
   ],
   "source": [
    "\n",
    "\n",
    "# Set operations\n",
    "Set1 = {1, 5, 3, 9, 8}\n",
    "Set2 = {3, 6, 5, 4, 2, 9}\n",
    "# Union\n",
    "print(Set1.union(Set2))\n",
    "\n",
    "# Intersection\n",
    "print(Set1.intersection(Set2))\n",
    "\n",
    "#symmetric difference\n",
    "print(Set1.symmetric_difference(Set2))\n",
    "\n",
    "#difference\n",
    "print(Set1.difference(Set2))\n",
    "\n",
    "#disjoint\n",
    "print(Set1.isdisjoint(Set2))\n",
    "\n",
    "#superset\n",
    "print(Set1.issuperset(Set2))\n",
    "\n",
    "#subset\n",
    "print(Set1.issubset(Set2))"
   ]
  },
  {
   "cell_type": "code",
   "execution_count": 12,
   "metadata": {},
   "outputs": [
    {
     "name": "stdout",
     "output_type": "stream",
     "text": [
      "Ford\n"
     ]
    }
   ],
   "source": [
    "#dictionary\n",
    "thisdict = {\n",
    "  \"brand\": \"Ford\",\n",
    "  \"model\": \"Mustang\",\n",
    "  \"year\": 1964\n",
    "}\n",
    "\n",
    "print(thisdict[\"brand\"])"
   ]
  }
 ],
 "metadata": {
  "kernelspec": {
   "display_name": "Python 3",
   "language": "python",
   "name": "python3"
  },
  "language_info": {
   "codemirror_mode": {
    "name": "ipython",
    "version": 3
   },
   "file_extension": ".py",
   "mimetype": "text/x-python",
   "name": "python",
   "nbconvert_exporter": "python",
   "pygments_lexer": "ipython3",
   "version": "3.11.4"
  }
 },
 "nbformat": 4,
 "nbformat_minor": 2
}
